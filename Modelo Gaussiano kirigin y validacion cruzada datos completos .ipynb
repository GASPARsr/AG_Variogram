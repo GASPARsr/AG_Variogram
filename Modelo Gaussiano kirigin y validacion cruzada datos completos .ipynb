{
 "cells": [
  {
   "cell_type": "markdown",
   "id": "8e4186b6",
   "metadata": {},
   "source": [
    "# Modelo Gaussiano Acotado"
   ]
  },
  {
   "cell_type": "code",
   "execution_count": 1,
   "id": "265eaa27",
   "metadata": {},
   "outputs": [],
   "source": [
    "from numba import jit, cuda"
   ]
  },
  {
   "cell_type": "code",
   "execution_count": 2,
   "id": "78aab095",
   "metadata": {},
   "outputs": [],
   "source": [
    "from timeit import default_timer as timer"
   ]
  },
  {
   "cell_type": "code",
   "execution_count": 3,
   "id": "06b09492",
   "metadata": {},
   "outputs": [],
   "source": [
    "import numpy as np\n",
    "import random\n",
    "import torch\n",
    "from numpy.random import default_rng\n",
    "import pandas as pd\n",
    "%matplotlib inline\n",
    "import matplotlib.pyplot as plt"
   ]
  },
  {
   "cell_type": "code",
   "execution_count": 4,
   "id": "e12a28da",
   "metadata": {},
   "outputs": [],
   "source": [
    "# def svar(h,co,s,a):\n",
    "#     return co + s*(1-np.exp(-(h**2/a**2)))\n",
    "# def error(gamma,svar):\n",
    "#     return 1/len(svar)*np.sum((svar-gamma)**2)\n",
    "svar = lambda h,co,s,a: co + s*(1-np.exp(-(h**2/a**2)))\n",
    "error = lambda gamma,svar: 1/len(svar)*np.sum((svar-gamma)**2)"
   ]
  },
  {
   "cell_type": "code",
   "execution_count": 5,
   "id": "5f9abcd2",
   "metadata": {},
   "outputs": [
    {
     "name": "stdout",
     "output_type": "stream",
     "text": [
      "14240.82\n"
     ]
    }
   ],
   "source": [
    "pve =  pd.read_csv(r'C:\\Users\\drake\\OneDrive\\Documentos\\MCPI\\TESIS AJUSTE DE VARIOGRAMA CON MACHING LEARNING\\El palmar tesis\\Datos completos\\variograma_experimental_datoscomp.csv')\n",
    "dc = pd.read_csv(r'C:\\Users\\drake\\OneDrive\\Documentos\\MCPI\\TESIS AJUSTE DE VARIOGRAMA CON MACHING LEARNING\\El palmar tesis\\Datos completos\\datos_completos_palmar_tesis.csv')\n",
    "matriz_distancias = r'C:\\Users\\drake\\OneDrive\\Documentos\\MCPI\\TESIS AJUSTE DE VARIOGRAMA CON MACHING LEARNING\\El palmar tesis\\Datos completos\\matriz_dist_completos_palmar.csv'\n",
    "puntosvariogramaexperimental = pd.read_csv(r'C:\\Users\\drake\\OneDrive\\Documentos\\MCPI\\TESIS AJUSTE DE VARIOGRAMA CON MACHING LEARNING\\El palmar tesis\\Datos completos\\variograma_experimental_datoscomp.csv')\n",
    "vardatos = round(dc['Carga_Hidraulica_c'].var(),2)\n",
    "dmax = 101096.84\n",
    "h=np.linspace(0,50549,5000)\n",
    "print(vardatos)\n",
    "e1=0.20\n",
    "e2=0.80\n",
    "e3=0"
   ]
  },
  {
   "cell_type": "code",
   "execution_count": 6,
   "id": "4f01592b",
   "metadata": {},
   "outputs": [],
   "source": [
    "@jit(target_backend='cuda')                                                 \n",
    "def calculo_z(url_dis,url_co,h,co,s,a):\n",
    "    distancias =  pd.read_csv(url_dis)\n",
    "    distancias = distancias.to_numpy()\n",
    "    distancias = distancias[:,1:]\n",
    "    dc = url_co\n",
    "    dc =  dc.to_numpy()    \n",
    "    Z = dc[:,-1]\n",
    "    ZA = np.zeros((len(Z),1))\n",
    "    Ve = np.zeros((len (Z),1))\n",
    "    svar = None\n",
    "    error = None\n",
    "    me = None\n",
    "    \n",
    "\n",
    "#     if(function_type == 'gauss'):\n",
    "#         svar = lambda h,co,s,a: co + s*(1-np.exp(-((h**2)/(a**2))))\n",
    "#         error = error = lambda gamma,svar_gauss: 1/len(svar_gauss)*np.sum((svar_gauss-gamma)**2)\n",
    "        \n",
    "        \n",
    "#     elif(function_type == 'exp'):\n",
    "#         svar= lambda h,co,s,a: co + s*(1-np.exp(-(h/a)))\n",
    "#         error = error = lambda gamma,svar_exp: 1/len(svar_exp)*np.sum((svar_exp-gamma)**2)\n",
    "        \n",
    "        \n",
    "#     elif(function_type == 'esf'):\n",
    "#         svar= lambda h,co,s,a: co + (s*(((3*h)/(2*a))-(1/2)*((h/a)**3)))\n",
    "#         error = error = lambda gamma,svar_esf: 1/len(svar_esf)*np.sum((svar_esf-gamma)**2)\n",
    "           \n",
    "        \n",
    "    i = 0\n",
    "    while(i<len(distancias)):\n",
    "        matriz_reducida = np.delete(distancias,i,axis=0)\n",
    "        matriz_reducida = np.delete(matriz_reducida,i,axis=1)\n",
    "        gamma = distancias[:,i]\n",
    "        gamma = np.delete(distancias[i],i,axis=0)\n",
    "        \n",
    "        matriz_reducida = co + s*(1-np.exp(-(matriz_reducida**2/a**2)))\n",
    "        matriz_reducida = np.concatenate((matriz_reducida, np.ones((1,308))), axis = 0)\n",
    "        matriz_reducida = np.concatenate((matriz_reducida, np.ones((309,1))), axis = 1)\n",
    "        matriz_reducida[-1,-1]=0\n",
    "        matriz_reducida[matriz_reducida > s] = s\n",
    "        gamma_l = co + s*(1-np.exp(-(gamma**2/a**2))) \n",
    "        gamma_l[gamma_l > s] = s\n",
    "        gamma = np.c_[gamma_l.reshape(1,308), 1]\n",
    "        gamma = gamma.T \n",
    "        matriz_reducida = matriz_reducida - np.diag(matriz_reducida) * np.identity(matriz_reducida.shape[0])\n",
    "        A = np.linalg.pinv(matriz_reducida)\n",
    "        Lamda = np.matmul(A,gamma)\n",
    "        z = dc[:,-1]\n",
    "        z = np.delete(z,i,axis=0)\n",
    "        b = gamma.T\n",
    "        vee = np.matmul(b,Lamda)\n",
    "        Ve[i]=vee\n",
    "        Lamda=Lamda[:-1,:]\n",
    "        Za=np.dot(z,Lamda)\n",
    "        ZA[i]= Za \n",
    "        i=i+1\n",
    "\n",
    "    Z = Z.reshape(len(Z),1)    \n",
    "    error = 1/len(Z)*np.sum((Z-ZA)**2) \n",
    "    error_3 = 1/len(Z)*np.sum(((Z-ZA)**2)/Ve)\n",
    "    return (error,error_3)  "
   ]
  },
  {
   "cell_type": "code",
   "execution_count": 7,
   "id": "2cb56cff",
   "metadata": {},
   "outputs": [],
   "source": [
    "#@jit\n",
    "def initial_population(size_population,nbits,num_var, verbose=False): \n",
    "    \"\"\" size_population  = tamaño de la población\n",
    "       nbists = número de bits de la cadena DNA\n",
    "    \"\"\"\n",
    "    individuos=np.zeros((size_population,nbits,num_var))\n",
    "    for i in range(size_population):\n",
    "        for j in range(num_var):\n",
    "            individuos[i,:,j] = [(random.getrandbits(1)) for number in range(1, nbits+1)]\n",
    "            if verbose:\n",
    "                print(\"Individuo \" +str(i+1)+ \" variable \"+str(j) + \":  \" + str(individuos[i,:,j]))     \n",
    "    return (individuos)"
   ]
  },
  {
   "cell_type": "code",
   "execution_count": 8,
   "id": "573d52f0",
   "metadata": {},
   "outputs": [],
   "source": [
    "#@jit\n",
    "def binatodeci(binary):\n",
    "    salida=sum(val*(2**idx) for idx, val in enumerate(reversed(binary)))\n",
    "    return salida"
   ]
  },
  {
   "cell_type": "code",
   "execution_count": 9,
   "id": "f603b5c8",
   "metadata": {},
   "outputs": [],
   "source": [
    "#@jit\n",
    "def fitness(matriz_distancias,dc,h,individuos,vardatos,dmax,size_population,nbits,num_var,verbose=False): \n",
    "    \"\"\" fx        = función a optimizar\n",
    "       Individuos = población a evaluar\n",
    "       interval   = [max y min]\n",
    "    \"\"\"\n",
    "    fitness_population=np.zeros((size_population,)) \n",
    "    fitness_prob=np.zeros((size_population,)) \n",
    "    max_value=(2**nbits-1)\n",
    "    for i in range(size_population):\n",
    "        x=np.zeros((num_var,))\n",
    "        \n",
    "        x[1]=binatodeci(individuos[i,:,1])\n",
    "        x[1]= ((vardatos-0)*x[1])/max_value\n",
    "        x[0]= binatodeci(individuos[i,:,0])\n",
    "        x[0]= ((x[1]-0)*x[0])/max_value\n",
    "        x[2]=binatodeci(individuos[i,:,2])\n",
    "        x[2]= (((dmax/2)-0)*x[2])/max_value\n",
    "        #x[3]= binatodeci(individuos[i,:,3])\n",
    "        #x[3]= x[3]/max_value\n",
    "        #x[4]= binatodeci(individuos[i,:,4])\n",
    "        #x[4] = ((0.2-(0.6*x[3]))/max_value)\n",
    "\n",
    "\n",
    "        error_2 = calculo_z(matriz_distancias,dc,h,x[0],x[1],x[2])\n",
    "        #fitness_population[i]=(x[3]*error(pve.iloc[:,1],svar(pve.iloc[:,0],x[0],x[1],x[2]))) + ((x[4])*(error_2[0])) + ((1-x[3]-x[4])*(np.abs(1-error_2[1])))\n",
    "        fitness_population[i]=(e1*error(pve.iloc[:,1],svar(pve.iloc[:,0],x[0],x[1],x[2]))) + ((e2)*(error_2[0])) + ((e3)*(np.abs(1-error_2[1])))\n",
    "        if verbose:\n",
    "            print(\"\\n\")\n",
    "            print(\"Individuo \" +str(i+1) +\":  \" + \"   f(x)=\"+ str(fitness_population[i]))\n",
    "            print(\"Pepita: \" +str(x[0]))\n",
    "            print(\"Meseta: \" +str(x[1]))\n",
    "            print(\"Alcance: \" +str(x[2]))\n",
    "\n",
    "            \n",
    "    mini=np.amin(fitness_population)\n",
    "    ind_mini=np.argmin(fitness_population)\n",
    "    thebest_individuo=individuos[ind_mini,:,:]\n",
    "    if verbose:\n",
    "        print(\"el mejor individuo: \" +str(ind_mini+1))\n",
    "        \n",
    "    return fitness_population, thebest_individuo"
   ]
  },
  {
   "cell_type": "code",
   "execution_count": 10,
   "id": "550196f9",
   "metadata": {},
   "outputs": [],
   "source": [
    "#@jit\n",
    "def selection(fitness_population, individuos,size_population,num_var,selection_method=\"tournament\",verbose=False): \n",
    "    \"\"\" fitness_population  = Evalaución de la población\n",
    "       fitness_prob = Evalaución de la población inversa y normalizada  \n",
    "       metodo_seleccion=\"tournament\"\n",
    "    \"\"\"\n",
    "    selected_population=np.zeros((size_population,nbits,num_var))\n",
    "    if selection_method == \"tournament\":\n",
    "        ind_tournament= [random.randint(0, size_population-1) for i in range(size_population)]\n",
    "        for i,j in zip(range(size_population),ind_tournament):\n",
    "            mini= np.argmin([ fitness_population[i],fitness_population[j]])\n",
    "            if mini==0:\n",
    "                selected_population[i,:,:]=individuos[i,:,:]\n",
    "                sel=i\n",
    "            else:\n",
    "                selected_population[i,:,:]=individuos[j,:,:]\n",
    "                sel=j\n",
    "            if verbose:\n",
    "                [print(\"Individuo seleccionado var \"+ str(ii)+\" : \" + str(selected_population[i,:,ii])) for ii in range(num_var)]\n",
    "\n",
    "                # print(\"Individuo seleccionado:\" +str(np.transpose(selected_population[i,:,:])))    \n",
    "    return selected_population"
   ]
  },
  {
   "cell_type": "code",
   "execution_count": 11,
   "id": "0ffc3386",
   "metadata": {},
   "outputs": [],
   "source": [
    "#@jit\n",
    "def crossover(selected_population, individuos,size_population,nbits,num_var,verbose=False): \n",
    "    \"\"\" fitness_population  = Evalaución de la población\n",
    "       fitness_prob = Evalaución de la población inversa y normalizada  \n",
    "       metodo_seleccion=\"tournament\"\n",
    "    \"\"\"\n",
    "    pointC= [random.randint(1, nbits-2) for i in range(size_population)]\n",
    "   \n",
    "    # [print(selected_population[i]) for i in range(size_population)]\n",
    "    i=0\n",
    "    cont_int=0\n",
    "    new_generation=np.zeros((size_population,nbits,num_var))\n",
    "    rng = default_rng()\n",
    "    ind_parents=np.zeros((num_var,2))\n",
    "    parents= np.zeros((2,num_var,nbits))\n",
    "    for j in range(num_var):\n",
    "        ind_parents[j,:] = rng.choice(size_population, size=2, replace=False)\n",
    "        parents[0,j,:]=selected_population[int(ind_parents[j,0]),:,j]\n",
    "        parents[1,j,:]=selected_population[int(ind_parents[j,1]),:,j]\n",
    "    for i in range(size_population):\n",
    "        for j in range(num_var):\n",
    "            new_generation[i,:,j] =np.concatenate((parents[0,j,0:pointC[i]],parents[1,j,pointC[i]:]))\n",
    "\n",
    "    if verbose:\n",
    "        [print(\"Individuo \" + str(i+1)+\" seleccionado var: \"+ str(ii)+\"  \" + str(new_generation[i,:,ii])) for ii in range(num_var)]\n",
    "    i += 1\n",
    "    \n",
    "    individuos=new_generation\n",
    "    \n",
    "    return individuos"
   ]
  },
  {
   "cell_type": "code",
   "execution_count": 12,
   "id": "0ac5c734",
   "metadata": {},
   "outputs": [],
   "source": [
    "#@jit\n",
    "def mutation(individuos,size_population,nbits,num_var, prob_mut=0.02, verbose=False): \n",
    "    \"\"\" prob  = probabilidad de mutación debe ser baja\n",
    "    \"\"\"\n",
    "    # [print(individuos[ii]) for ii in range(size_population)]\n",
    "    dat=np.random.uniform(low=0,high=1,size=(size_population,nbits,num_var))<prob_mut\n",
    "    x,y,z=np.where(dat)\n",
    "    n_mut= len(x)\n",
    "    for i,j,k in zip(x,y,z):\n",
    "        individuos[i,j,k]=1-individuos[i,j,k]\n",
    "            \n",
    "    if verbose:\n",
    "        print(\"numbers of mutated bits: \" + str(n_mut))\n",
    "    return individuos"
   ]
  },
  {
   "cell_type": "code",
   "execution_count": 13,
   "id": "ddab95d2",
   "metadata": {},
   "outputs": [],
   "source": [
    "\n",
    "# size_population=15\n",
    "# nbits=16\n",
    "# individuos=initial_population(size_population,nbits,num_var=3,verbose=True)\n",
    "# fitness_population=fitness(individuos,vardatos,dmax,size_population,nbits,num_var=3,verbose=True)\n",
    "# selected_population=selection(fitness_population, individuos,size_population,num_var=3,selection_method=\"tournament\",verbose=True)\n",
    "# individuos=crossover(selected_population, individuos,size_population,nbits,num_var=3,verbose=False)\n",
    "# mutacion=mutation(individuos,size_population,nbits,num_var=3, prob_mut=0.02, verbose=False)"
   ]
  },
  {
   "cell_type": "code",
   "execution_count": 14,
   "id": "e450d468",
   "metadata": {},
   "outputs": [],
   "source": [
    "# size_population=32\n",
    "# nbits=12\n",
    "# individuos=initial_population(size_population,nbits,num_var=3,verbose=False)\n",
    "# fitness_population,thebest_individuo=fitness(individuos,vardatos,dmax,size_population,nbits,num_var=3,verbose=False)\n",
    "# print(individuos)\n",
    "# print(thebest_individuo)\n",
    "# selected_population=selection(fitness_population, individuos,size_population,num_var=3,selection_method=\"tournament\",verbose=False)\n",
    "# individuos=crossover(selected_population, individuos,size_population,nbits,num_var=3,verbose=False)\n",
    "# mutacion=mutation(individuos,size_population,nbits,num_var=3, prob_mut=0.02, verbose=False)"
   ]
  },
  {
   "cell_type": "code",
   "execution_count": 15,
   "id": "139191bb",
   "metadata": {
    "scrolled": true
   },
   "outputs": [
    {
     "name": "stderr",
     "output_type": "stream",
     "text": [
      "C:\\Users\\drake\\AppData\\Local\\Temp\\ipykernel_11556\\4166581133.py:1: NumbaWarning: \u001b[1m\n",
      "Compilation is falling back to object mode WITH looplifting enabled because Function \"calculo_z\" failed type inference due to: \u001b[1m\u001b[1mnon-precise type pyobject\u001b[0m\n",
      "\u001b[0m\u001b[1mDuring: typing of argument at C:\\Users\\drake\\AppData\\Local\\Temp\\ipykernel_11556\\4166581133.py (3)\u001b[0m\n",
      "\u001b[1m\n",
      "File \"AppData\\Local\\Temp\\ipykernel_11556\\4166581133.py\", line 3:\u001b[0m\n",
      "\u001b[1m<source missing, REPL/exec in use?>\u001b[0m\n",
      "\u001b[0m\n",
      "  @jit(target_backend='cuda')\n",
      "C:\\Users\\drake\\anaconda3\\lib\\site-packages\\numba\\core\\object_mode_passes.py:151: NumbaWarning: \u001b[1mFunction \"calculo_z\" was compiled in object mode without forceobj=True.\n",
      "\u001b[1m\n",
      "File \"AppData\\Local\\Temp\\ipykernel_11556\\4166581133.py\", line 1:\u001b[0m\n",
      "\u001b[1m<source missing, REPL/exec in use?>\u001b[0m\n",
      "\u001b[0m\n",
      "  warnings.warn(errors.NumbaWarning(warn_msg,\n",
      "C:\\Users\\drake\\anaconda3\\lib\\site-packages\\numba\\core\\object_mode_passes.py:161: NumbaDeprecationWarning: \u001b[1m\n",
      "Fall-back from the nopython compilation path to the object mode compilation path has been detected, this is deprecated behaviour.\n",
      "\n",
      "For more information visit https://numba.readthedocs.io/en/stable/reference/deprecation.html#deprecation-of-object-mode-fall-back-behaviour-when-using-jit\n",
      "\u001b[1m\n",
      "File \"AppData\\Local\\Temp\\ipykernel_11556\\4166581133.py\", line 1:\u001b[0m\n",
      "\u001b[1m<source missing, REPL/exec in use?>\u001b[0m\n",
      "\u001b[0m\n",
      "  warnings.warn(errors.NumbaDeprecationWarning(msg,\n"
     ]
    },
    {
     "name": "stdout",
     "output_type": "stream",
     "text": [
      "iteracion:     0\n"
     ]
    },
    {
     "ename": "KeyboardInterrupt",
     "evalue": "",
     "output_type": "error",
     "traceback": [
      "\u001b[1;31m---------------------------------------------------------------------------\u001b[0m",
      "\u001b[1;31mKeyboardInterrupt\u001b[0m                         Traceback (most recent call last)",
      "Input \u001b[1;32mIn [15]\u001b[0m, in \u001b[0;36m<cell line: 5>\u001b[1;34m()\u001b[0m\n\u001b[0;32m      4\u001b[0m individuos\u001b[38;5;241m=\u001b[39minitial_population(size_population,nbits,num_var\u001b[38;5;241m=\u001b[39m\u001b[38;5;241m3\u001b[39m,verbose\u001b[38;5;241m=\u001b[39m\u001b[38;5;28;01mFalse\u001b[39;00m)\n\u001b[0;32m      5\u001b[0m \u001b[38;5;28;01mfor\u001b[39;00m ite \u001b[38;5;129;01min\u001b[39;00m \u001b[38;5;28mrange\u001b[39m(\u001b[38;5;241m300\u001b[39m):\n\u001b[1;32m----> 6\u001b[0m     fitness_population,thebest_individuo\u001b[38;5;241m=\u001b[39m\u001b[43mfitness\u001b[49m\u001b[43m(\u001b[49m\u001b[43mmatriz_distancias\u001b[49m\u001b[43m,\u001b[49m\u001b[43mdc\u001b[49m\u001b[43m,\u001b[49m\u001b[43mh\u001b[49m\u001b[43m,\u001b[49m\u001b[43mindividuos\u001b[49m\u001b[43m,\u001b[49m\u001b[43mvardatos\u001b[49m\u001b[43m,\u001b[49m\u001b[43mdmax\u001b[49m\u001b[43m,\u001b[49m\u001b[43msize_population\u001b[49m\u001b[43m,\u001b[49m\u001b[43mnbits\u001b[49m\u001b[43m,\u001b[49m\u001b[43mnum_var\u001b[49m\u001b[38;5;241;43m=\u001b[39;49m\u001b[38;5;241;43m3\u001b[39;49m\u001b[43m,\u001b[49m\u001b[43mverbose\u001b[49m\u001b[38;5;241;43m=\u001b[39;49m\u001b[38;5;28;43;01mFalse\u001b[39;49;00m\u001b[43m)\u001b[49m\n\u001b[0;32m      7\u001b[0m     selected_population\u001b[38;5;241m=\u001b[39mselection(fitness_population, individuos,size_population,num_var\u001b[38;5;241m=\u001b[39m\u001b[38;5;241m3\u001b[39m,selection_method\u001b[38;5;241m=\u001b[39m\u001b[38;5;124m\"\u001b[39m\u001b[38;5;124mtournament\u001b[39m\u001b[38;5;124m\"\u001b[39m,verbose\u001b[38;5;241m=\u001b[39m\u001b[38;5;28;01mFalse\u001b[39;00m)\n\u001b[0;32m      8\u001b[0m     individuos\u001b[38;5;241m=\u001b[39mcrossover(selected_population, individuos,size_population,nbits,num_var\u001b[38;5;241m=\u001b[39m\u001b[38;5;241m3\u001b[39m,verbose\u001b[38;5;241m=\u001b[39m\u001b[38;5;28;01mFalse\u001b[39;00m)\n",
      "Input \u001b[1;32mIn [9]\u001b[0m, in \u001b[0;36mfitness\u001b[1;34m(matriz_distancias, dc, h, individuos, vardatos, dmax, size_population, nbits, num_var, verbose)\u001b[0m\n\u001b[0;32m     18\u001b[0m x[\u001b[38;5;241m2\u001b[39m]\u001b[38;5;241m=\u001b[39m (((dmax\u001b[38;5;241m/\u001b[39m\u001b[38;5;241m2\u001b[39m)\u001b[38;5;241m-\u001b[39m\u001b[38;5;241m0\u001b[39m)\u001b[38;5;241m*\u001b[39mx[\u001b[38;5;241m2\u001b[39m])\u001b[38;5;241m/\u001b[39mmax_value\n\u001b[0;32m     19\u001b[0m \u001b[38;5;66;03m#x[3]= binatodeci(individuos[i,:,3])\u001b[39;00m\n\u001b[0;32m     20\u001b[0m \u001b[38;5;66;03m#x[3]= x[3]/max_value\u001b[39;00m\n\u001b[0;32m     21\u001b[0m \u001b[38;5;66;03m#x[4]= binatodeci(individuos[i,:,4])\u001b[39;00m\n\u001b[0;32m     22\u001b[0m \u001b[38;5;66;03m#x[4] = ((0.2-(0.6*x[3]))/max_value)\u001b[39;00m\n\u001b[1;32m---> 25\u001b[0m error_2 \u001b[38;5;241m=\u001b[39m \u001b[43mcalculo_z\u001b[49m\u001b[43m(\u001b[49m\u001b[43mmatriz_distancias\u001b[49m\u001b[43m,\u001b[49m\u001b[43mdc\u001b[49m\u001b[43m,\u001b[49m\u001b[43mh\u001b[49m\u001b[43m,\u001b[49m\u001b[43mx\u001b[49m\u001b[43m[\u001b[49m\u001b[38;5;241;43m0\u001b[39;49m\u001b[43m]\u001b[49m\u001b[43m,\u001b[49m\u001b[43mx\u001b[49m\u001b[43m[\u001b[49m\u001b[38;5;241;43m1\u001b[39;49m\u001b[43m]\u001b[49m\u001b[43m,\u001b[49m\u001b[43mx\u001b[49m\u001b[43m[\u001b[49m\u001b[38;5;241;43m2\u001b[39;49m\u001b[43m]\u001b[49m\u001b[43m)\u001b[49m\n\u001b[0;32m     26\u001b[0m \u001b[38;5;66;03m#fitness_population[i]=(x[3]*error(pve.iloc[:,1],svar(pve.iloc[:,0],x[0],x[1],x[2]))) + ((x[4])*(error_2[0])) + ((1-x[3]-x[4])*(np.abs(1-error_2[1])))\u001b[39;00m\n\u001b[0;32m     27\u001b[0m fitness_population[i]\u001b[38;5;241m=\u001b[39m(e1\u001b[38;5;241m*\u001b[39merror(pve\u001b[38;5;241m.\u001b[39miloc[:,\u001b[38;5;241m1\u001b[39m],svar(pve\u001b[38;5;241m.\u001b[39miloc[:,\u001b[38;5;241m0\u001b[39m],x[\u001b[38;5;241m0\u001b[39m],x[\u001b[38;5;241m1\u001b[39m],x[\u001b[38;5;241m2\u001b[39m]))) \u001b[38;5;241m+\u001b[39m ((e2)\u001b[38;5;241m*\u001b[39m(error_2[\u001b[38;5;241m0\u001b[39m])) \u001b[38;5;241m+\u001b[39m ((e3)\u001b[38;5;241m*\u001b[39m(np\u001b[38;5;241m.\u001b[39mabs(\u001b[38;5;241m1\u001b[39m\u001b[38;5;241m-\u001b[39merror_2[\u001b[38;5;241m1\u001b[39m])))\n",
      "File \u001b[1;32m<__array_function__ internals>:5\u001b[0m, in \u001b[0;36mpinv\u001b[1;34m(*args, **kwargs)\u001b[0m\n",
      "File \u001b[1;32m~\\anaconda3\\lib\\site-packages\\numpy\\linalg\\linalg.py:2002\u001b[0m, in \u001b[0;36mpinv\u001b[1;34m(a, rcond, hermitian)\u001b[0m\n\u001b[0;32m   2000\u001b[0m     \u001b[38;5;28;01mreturn\u001b[39;00m wrap(res)\n\u001b[0;32m   2001\u001b[0m a \u001b[38;5;241m=\u001b[39m a\u001b[38;5;241m.\u001b[39mconjugate()\n\u001b[1;32m-> 2002\u001b[0m u, s, vt \u001b[38;5;241m=\u001b[39m \u001b[43msvd\u001b[49m\u001b[43m(\u001b[49m\u001b[43ma\u001b[49m\u001b[43m,\u001b[49m\u001b[43m \u001b[49m\u001b[43mfull_matrices\u001b[49m\u001b[38;5;241;43m=\u001b[39;49m\u001b[38;5;28;43;01mFalse\u001b[39;49;00m\u001b[43m,\u001b[49m\u001b[43m \u001b[49m\u001b[43mhermitian\u001b[49m\u001b[38;5;241;43m=\u001b[39;49m\u001b[43mhermitian\u001b[49m\u001b[43m)\u001b[49m\n\u001b[0;32m   2004\u001b[0m \u001b[38;5;66;03m# discard small singular values\u001b[39;00m\n\u001b[0;32m   2005\u001b[0m cutoff \u001b[38;5;241m=\u001b[39m rcond[\u001b[38;5;241m.\u001b[39m\u001b[38;5;241m.\u001b[39m\u001b[38;5;241m.\u001b[39m, newaxis] \u001b[38;5;241m*\u001b[39m amax(s, axis\u001b[38;5;241m=\u001b[39m\u001b[38;5;241m-\u001b[39m\u001b[38;5;241m1\u001b[39m, keepdims\u001b[38;5;241m=\u001b[39m\u001b[38;5;28;01mTrue\u001b[39;00m)\n",
      "File \u001b[1;32m<__array_function__ internals>:5\u001b[0m, in \u001b[0;36msvd\u001b[1;34m(*args, **kwargs)\u001b[0m\n",
      "File \u001b[1;32m~\\anaconda3\\lib\\site-packages\\numpy\\linalg\\linalg.py:1660\u001b[0m, in \u001b[0;36msvd\u001b[1;34m(a, full_matrices, compute_uv, hermitian)\u001b[0m\n\u001b[0;32m   1657\u001b[0m         gufunc \u001b[38;5;241m=\u001b[39m _umath_linalg\u001b[38;5;241m.\u001b[39msvd_n_s\n\u001b[0;32m   1659\u001b[0m signature \u001b[38;5;241m=\u001b[39m \u001b[38;5;124m'\u001b[39m\u001b[38;5;124mD->DdD\u001b[39m\u001b[38;5;124m'\u001b[39m \u001b[38;5;28;01mif\u001b[39;00m isComplexType(t) \u001b[38;5;28;01melse\u001b[39;00m \u001b[38;5;124m'\u001b[39m\u001b[38;5;124md->ddd\u001b[39m\u001b[38;5;124m'\u001b[39m\n\u001b[1;32m-> 1660\u001b[0m u, s, vh \u001b[38;5;241m=\u001b[39m \u001b[43mgufunc\u001b[49m\u001b[43m(\u001b[49m\u001b[43ma\u001b[49m\u001b[43m,\u001b[49m\u001b[43m \u001b[49m\u001b[43msignature\u001b[49m\u001b[38;5;241;43m=\u001b[39;49m\u001b[43msignature\u001b[49m\u001b[43m,\u001b[49m\u001b[43m \u001b[49m\u001b[43mextobj\u001b[49m\u001b[38;5;241;43m=\u001b[39;49m\u001b[43mextobj\u001b[49m\u001b[43m)\u001b[49m\n\u001b[0;32m   1661\u001b[0m u \u001b[38;5;241m=\u001b[39m u\u001b[38;5;241m.\u001b[39mastype(result_t, copy\u001b[38;5;241m=\u001b[39m\u001b[38;5;28;01mFalse\u001b[39;00m)\n\u001b[0;32m   1662\u001b[0m s \u001b[38;5;241m=\u001b[39m s\u001b[38;5;241m.\u001b[39mastype(_realType(result_t), copy\u001b[38;5;241m=\u001b[39m\u001b[38;5;28;01mFalse\u001b[39;00m)\n",
      "\u001b[1;31mKeyboardInterrupt\u001b[0m: "
     ]
    }
   ],
   "source": [
    "#@jit\n",
    "size_population=32\n",
    "nbits=12\n",
    "individuos=initial_population(size_population,nbits,num_var=3,verbose=False)\n",
    "for ite in range(300):\n",
    "    fitness_population,thebest_individuo=fitness(matriz_distancias,dc,h,individuos,vardatos,dmax,size_population,nbits,num_var=3,verbose=False)\n",
    "    selected_population=selection(fitness_population, individuos,size_population,num_var=3,selection_method=\"tournament\",verbose=False)\n",
    "    individuos=crossover(selected_population, individuos,size_population,nbits,num_var=3,verbose=False)\n",
    "    individuos=mutation(individuos,size_population,nbits,num_var=3, prob_mut=0.02, verbose=False)\n",
    "    individuos[0,:,:]=thebest_individuo\n",
    "    print('iteracion: %5.0f'%ite)\n",
    "fitness_population,thebest_individuo=fitness(matriz_distancias,dc,h,individuos,vardatos,dmax,size_population,nbits,num_var=3,verbose=False)\n",
    "ind_mini=np.argmin(fitness_population)\n",
    "# print(ind_mini)\n",
    "# print(individuos[ind_mini,:,:])\n",
    "\n",
    "\n",
    "max_value=(2**nbits-1)\n",
    "x=np.zeros((3,))\n",
    "x[1]=binatodeci(individuos[ind_mini,:,1])\n",
    "x[1]= ((vardatos-0)*x[1])/max_value\n",
    "x[0]= binatodeci(individuos[ind_mini,:,0])\n",
    "x[0]= ((x[1]-0)*x[0])/max_value\n",
    "x[2]=binatodeci(individuos[ind_mini,:,2])\n",
    "x[2]= (((dmax/2)-0)*x[2])/max_value\n",
    "#x[3]= binatodeci(individuos[ind_mini,:,3])\n",
    "#x[3]= x[3]/max_value\n",
    "#x[4]= binatodeci(individuos[ind_mini,:,4])\n",
    "#x[4] = ((0.2-(0.6*x[3]))/max_value)\n",
    "\n",
    "print(x)\n",
    "calculo_z(matriz_distancias,dc,h,x[0],x[1],x[2])"
   ]
  },
  {
   "cell_type": "code",
   "execution_count": null,
   "id": "8fbc7bf0",
   "metadata": {
    "scrolled": true
   },
   "outputs": [],
   "source": [
    "h=np.linspace(0,50549,5000)\n",
    "b=  x[0] + x[1]*(1-np.exp(-(h**2/x[2]**2)))\n",
    "plt.scatter(pve.iloc[:,0],pve.iloc[:,1])\n",
    "plt.plot(h,b)\n",
    "plt.show()\n",
    "print(h)\n",
    "me= x[0] + x[1]*(1-np.exp(-(pve.iloc[:,0]**2/x[2]**2)))\n",
    "svar = pve.iloc[:,1]\n",
    "error = 1/len(svar)*np.sum((svar-me)**2)\n",
    "print(error)"
   ]
  },
  {
   "cell_type": "code",
   "execution_count": null,
   "id": "ca57c03c",
   "metadata": {},
   "outputs": [],
   "source": [
    "error_z= calculo_z(matriz_distancias,dc,'gauss',h,x[0],x[1],x[2])"
   ]
  },
  {
   "cell_type": "code",
   "execution_count": null,
   "id": "3a0b56fb",
   "metadata": {},
   "outputs": [],
   "source": [
    "error_varianza = np.abs(1-error_z[1])\n",
    "print(error_varianza)"
   ]
  },
  {
   "cell_type": "code",
   "execution_count": null,
   "id": "64a1ed70",
   "metadata": {},
   "outputs": [],
   "source": [
    "error_total=(x[3]*error)+(x[4]*error_z[0])+((1-x[3]-x[4])*(np.abs(1-error_z[1])))"
   ]
  },
  {
   "cell_type": "code",
   "execution_count": null,
   "id": "50a5cdca",
   "metadata": {},
   "outputs": [],
   "source": [
    "print(error_total)"
   ]
  },
  {
   "cell_type": "code",
   "execution_count": null,
   "id": "ff4f8683",
   "metadata": {},
   "outputs": [],
   "source": []
  }
 ],
 "metadata": {
  "kernelspec": {
   "display_name": "Python 3 (ipykernel)",
   "language": "python",
   "name": "python3"
  },
  "language_info": {
   "codemirror_mode": {
    "name": "ipython",
    "version": 3
   },
   "file_extension": ".py",
   "mimetype": "text/x-python",
   "name": "python",
   "nbconvert_exporter": "python",
   "pygments_lexer": "ipython3",
   "version": "3.9.12"
  }
 },
 "nbformat": 4,
 "nbformat_minor": 5
}
